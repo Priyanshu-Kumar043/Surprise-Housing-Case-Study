{
 "cells": [
  {
   "cell_type": "code",
   "execution_count": null,
   "id": "888c70e2",
   "metadata": {},
   "outputs": [],
   "source": [
    "import warnings\n",
    "warnings.filterwarnings(\"ignore\")"
   ]
  },
  {
   "cell_type": "code",
   "execution_count": null,
   "id": "0ac1ef13",
   "metadata": {},
   "outputs": [],
   "source": [
    "import numpy as np\n",
    "import pandas as pd\n",
    "pd.set_option(\"display.max_columns\",None)\n",
    "pd.set_option(\"display.max_rows\",None)"
   ]
  },
  {
   "cell_type": "markdown",
   "id": "7c43784e",
   "metadata": {},
   "source": [
    "## Step 1: Import and Inspect Dataset"
   ]
  },
  {
   "cell_type": "code",
   "execution_count": null,
   "id": "cde70a51",
   "metadata": {},
   "outputs": [],
   "source": [
    "housing = pd.read_csv(\"train.csv\")\n",
    "housing.head()"
   ]
  },
  {
   "cell_type": "code",
   "execution_count": null,
   "id": "3381d7ad",
   "metadata": {},
   "outputs": [],
   "source": [
    "housing.shape"
   ]
  },
  {
   "cell_type": "code",
   "execution_count": null,
   "id": "193c1b62",
   "metadata": {},
   "outputs": [],
   "source": [
    "housing.describe()"
   ]
  },
  {
   "cell_type": "code",
   "execution_count": null,
   "id": "cbd4202f",
   "metadata": {},
   "outputs": [],
   "source": [
    "housing.info()"
   ]
  },
  {
   "cell_type": "code",
   "execution_count": null,
   "id": "9c6c310e",
   "metadata": {},
   "outputs": [],
   "source": [
    "housing.isnull().sum()/housing.shape[0] * 100"
   ]
  },
  {
   "cell_type": "markdown",
   "id": "aaa25136",
   "metadata": {},
   "source": [
    "## Step 2: Data Cleaning"
   ]
  },
  {
   "cell_type": "code",
   "execution_count": null,
   "id": "7ad90cc2",
   "metadata": {},
   "outputs": [],
   "source": [
    "cols = ['Alley', 'BsmtQual', 'BsmtCond', 'BsmtExposure', 'BsmtFinType1', 'BsmtFinType2', 'FireplaceQu', 'GarageType', 'GarageFinish', 'GarageQual', 'GarageCond', 'PoolQC', 'Fence', 'MiscFeature']\n",
    "for i in cols:\n",
    "    housing[i].fillna(\"None\",inplace = True)"
   ]
  },
  {
   "cell_type": "code",
   "execution_count": null,
   "id": "e1fd029c",
   "metadata": {},
   "outputs": [],
   "source": [
    "housing.info()"
   ]
  },
  {
   "cell_type": "code",
   "execution_count": null,
   "id": "ddefe441",
   "metadata": {},
   "outputs": [],
   "source": [
    "import seaborn as sns\n",
    "import matplotlib.pyplot as plt\n",
    "%matplotlib inline"
   ]
  },
  {
   "cell_type": "code",
   "execution_count": null,
   "id": "2a813425",
   "metadata": {},
   "outputs": [],
   "source": [
    "plt.figure(figsize =[6,6])\n",
    "sns.distplot(housing['SalePrice'])\n",
    "plt.show()"
   ]
  },
  {
   "cell_type": "markdown",
   "id": "d6f1cfc6",
   "metadata": {},
   "source": [
    "### We can see that the target variable SalePrice is right skewed"
   ]
  },
  {
   "cell_type": "code",
   "execution_count": null,
   "id": "882367c2",
   "metadata": {},
   "outputs": [],
   "source": [
    "print(\"Skewness: \", housing['SalePrice'].skew())\n",
    "print(\"Kurtosis: \", housing['SalePrice'].kurt())"
   ]
  },
  {
   "cell_type": "markdown",
   "id": "c19e3e4c",
   "metadata": {},
   "source": [
    "##### We can observe that the target variable has skewness greater than 1 and has hog density around saleprice of 160000\n",
    "\n",
    "##### Hence, we can do data transformation for this variable"
   ]
  },
  {
   "cell_type": "code",
   "execution_count": null,
   "id": "4b385a21",
   "metadata": {},
   "outputs": [],
   "source": [
    "#Log Transformation\n",
    "housing['SalePrice'] = np.log(housing['SalePrice'])"
   ]
  },
  {
   "cell_type": "code",
   "execution_count": null,
   "id": "31a75533",
   "metadata": {},
   "outputs": [],
   "source": [
    "plt.figure(figsize =[6,6])\n",
    "sns.distplot(housing['SalePrice'])\n",
    "plt.show()"
   ]
  },
  {
   "cell_type": "code",
   "execution_count": null,
   "id": "0e07d0bf",
   "metadata": {},
   "outputs": [],
   "source": [
    "print(\"Skewness: \", housing['SalePrice'].skew())\n",
    "print(\"Kurtosis: \", housing['SalePrice'].kurt())"
   ]
  },
  {
   "cell_type": "markdown",
   "id": "d904394e",
   "metadata": {},
   "source": [
    "### We can now see that skewness and kutosis is removed"
   ]
  },
  {
   "cell_type": "markdown",
   "id": "b6e0aa31",
   "metadata": {},
   "source": [
    "- Drop ID Column\n",
    "- Convert 'MSSubClass', 'OverallQual', 'OverallCond' to object datatype\n",
    "- Convert 'LogFrontage', 'MasVnrArea' to Numeric Data Types"
   ]
  },
  {
   "cell_type": "code",
   "execution_count": null,
   "id": "08f1fbe3",
   "metadata": {},
   "outputs": [],
   "source": [
    "housing.drop(\"Id\",axis=1, inplace=True)"
   ]
  },
  {
   "cell_type": "code",
   "execution_count": null,
   "id": "9750e9ed",
   "metadata": {},
   "outputs": [],
   "source": [
    "housing[['MSSubClass', 'OverallQual', 'OverallCond']] = housing[['MSSubClass', 'OverallQual', 'OverallCond']].astype('object')"
   ]
  },
  {
   "cell_type": "code",
   "execution_count": null,
   "id": "eca70afd",
   "metadata": {},
   "outputs": [],
   "source": [
    "housing['LotFrontage'] = pd.to_numeric(housing['LotFrontage'], errors = 'coerce')\n",
    "housing['MasVnrArea'] = pd.to_numeric(housing['MasVnrArea'], errors = 'coerce')"
   ]
  },
  {
   "cell_type": "code",
   "execution_count": null,
   "id": "1c239b44",
   "metadata": {},
   "outputs": [],
   "source": [
    "housing.info()"
   ]
  },
  {
   "cell_type": "code",
   "execution_count": null,
   "id": "394001b1",
   "metadata": {},
   "outputs": [],
   "source": [
    "null_cols = housing.columns[housing.isnull().any()]\n",
    "null_cols"
   ]
  },
  {
   "cell_type": "code",
   "execution_count": null,
   "id": "e5aaa2b1",
   "metadata": {},
   "outputs": [],
   "source": [
    "for i in null_cols:\n",
    "    if (housing[i].dtype == np.float64 or housing[i].dtype == np.int64):\n",
    "        housing[i].fillna(housing[i].mean(), inplace = True)\n",
    "    else:\n",
    "        housing[i].fillna(housing[i].mode()[0], inplace = True)"
   ]
  },
  {
   "cell_type": "code",
   "execution_count": null,
   "id": "20b1e2f6",
   "metadata": {},
   "outputs": [],
   "source": [
    "housing.isnull().sum()"
   ]
  },
  {
   "cell_type": "markdown",
   "id": "942f7f1b",
   "metadata": {},
   "source": [
    "## Step 3: Exploratory Data Analysis on Dataset"
   ]
  },
  {
   "cell_type": "code",
   "execution_count": null,
   "id": "35db20f6",
   "metadata": {},
   "outputs": [],
   "source": [
    "# list of categorical Columns\n",
    "cat_cols = housing.select_dtypes(include = 'object').columns\n",
    "cat_cols"
   ]
  },
  {
   "cell_type": "code",
   "execution_count": null,
   "id": "d2d5b431",
   "metadata": {},
   "outputs": [],
   "source": [
    "# List of numerical columns\n",
    "num_cols = housing.select_dtypes(include = ['int64','float64']).columns\n",
    "num_cols"
   ]
  },
  {
   "cell_type": "markdown",
   "id": "0b2d713e",
   "metadata": {},
   "source": [
    "## Univariant analysis"
   ]
  },
  {
   "cell_type": "code",
   "execution_count": null,
   "id": "79324c3d",
   "metadata": {},
   "outputs": [],
   "source": [
    "# Numerical Columns\n",
    "#Plotting Boxplots to visualize the distribution and check for outliers\n",
    "for i in num_cols:\n",
    "    plt.figure(figsize=[8,5])\n",
    "    print(i)\n",
    "    sns.boxplot(housing[i])\n",
    "    plt.show()"
   ]
  },
  {
   "cell_type": "markdown",
   "id": "bac9ebed",
   "metadata": {},
   "source": [
    "#### We can see outliers in LotFrontage, LotArea, YearBuilt, MaxVnrArea,BsmtFinSF1, BsmtUnfSF, etc..."
   ]
  },
  {
   "cell_type": "code",
   "execution_count": null,
   "id": "da2fc728",
   "metadata": {},
   "outputs": [],
   "source": [
    "#Categorical Columns\n",
    "# Plotting Pie plots to visualize the values distribution in each category\n",
    "for i in cat_cols:\n",
    "    print(housing[i].value_counts(normalize=True))\n",
    "    plt.figure(figsize=[5,5])\n",
    "    housing[i].value_counts(normalize=True).plot.pie(labeldistance = None, autopct = '%1.2f%%')\n",
    "    plt.legend()\n",
    "    plt.show()\n",
    "    print(\"-----------------------------------------------------------------------------\")"
   ]
  },
  {
   "cell_type": "markdown",
   "id": "7e91ac98",
   "metadata": {},
   "source": [
    "##### We can look percentage of values in category of columns and infer that, 'MSZoning', 'Street', 'LandContour', 'Utilities',LotConfig, LandSlope, Condition1, Condition2, BlgdTypre, RoofStyle, etc., columns are having more than 70% of the distribution in a single category"
   ]
  },
  {
   "cell_type": "markdown",
   "id": "21e7dee0",
   "metadata": {},
   "source": [
    "##### Bivariate/ Multivariate Analysis on the Dataset"
   ]
  },
  {
   "cell_type": "code",
   "execution_count": null,
   "id": "c5b19c7b",
   "metadata": {},
   "outputs": [],
   "source": [
    "#Plot of MSZoning vs LotFrontage\n",
    "sns.barplot(x='MSZoning', y='LotFrontage', data= housing)\n",
    "plt.show"
   ]
  },
  {
   "cell_type": "code",
   "execution_count": null,
   "id": "f59b0fad",
   "metadata": {},
   "outputs": [],
   "source": [
    "#Plot of MSSubClass vs LotFrontage\n",
    "sns.barplot(x='MSSubClass', y='LotFrontage', data= housing)\n",
    "plt.show"
   ]
  },
  {
   "cell_type": "code",
   "execution_count": null,
   "id": "1cfd2c5d",
   "metadata": {},
   "outputs": [],
   "source": [
    "# plot of HouseStyle vs SalePrice based on Street\n",
    "sns.barplot(x='HouseStyle', y='SalePrice',hue= 'Street', data = housing)\n",
    "plt.show"
   ]
  },
  {
   "cell_type": "code",
   "execution_count": null,
   "id": "2cc8c499",
   "metadata": {},
   "outputs": [],
   "source": [
    "# Plot of BldgType vs SalePrice\n",
    "sns.barplot(x='BldgType', y='SalePrice', data=housing)\n",
    "plt.show()"
   ]
  },
  {
   "cell_type": "code",
   "execution_count": null,
   "id": "1f3d571f",
   "metadata": {},
   "outputs": [],
   "source": [
    "# Plot of BsmtQual vs SalePrice\n",
    "sns.barplot(x='BsmtQual', y='SalePrice', data=housing)\n",
    "plt.show()"
   ]
  },
  {
   "cell_type": "code",
   "execution_count": null,
   "id": "6fbb44f8",
   "metadata": {},
   "outputs": [],
   "source": [
    "# Calculating Age of the Property\n",
    "housing[\"Age\"] = housing[\"YrSold\"] - housing[\"YearBuilt\"]\n",
    "housing[\"Age\"].head()"
   ]
  },
  {
   "cell_type": "code",
   "execution_count": null,
   "id": "9b276465",
   "metadata": {},
   "outputs": [],
   "source": [
    "# Dropping YrSold and YearBuilt\n",
    "housing.drop(columns=['YrSold','YearBuilt'], axis=1, inplace=True)"
   ]
  },
  {
   "cell_type": "code",
   "execution_count": null,
   "id": "0565a116",
   "metadata": {},
   "outputs": [],
   "source": [
    "housing.head()"
   ]
  },
  {
   "cell_type": "code",
   "execution_count": null,
   "id": "3bd93112",
   "metadata": {},
   "outputs": [],
   "source": [
    "plt.figure(figsize = [25,25])\n",
    "sns.heatmap(housing.corr(),annot=True, cmap= 'BuPu')\n",
    "plt.title(\"Correlation of Numeric Values\")"
   ]
  },
  {
   "cell_type": "code",
   "execution_count": null,
   "id": "47bcb7cf",
   "metadata": {},
   "outputs": [],
   "source": [
    "k =10\n",
    "plt.figure(figsize=[15,15])\n",
    "cols = housing.corr().nlargest(k,\"SalePrice\").index\n",
    "cm = np.corrcoef(housing[cols].values.T)\n",
    "sns.heatmap(cm,annot=True,square=True, fmt='.2f', cbar = True, annot_kws={'size':10},yticklabels=cols.values,xticklabels=cols.values)\n",
    "plt.show()"
   ]
  },
  {
   "cell_type": "markdown",
   "id": "603202f8",
   "metadata": {},
   "source": [
    "##### Pairplot for Numerical Columns"
   ]
  },
  {
   "cell_type": "code",
   "execution_count": null,
   "id": "4c226fa1",
   "metadata": {},
   "outputs": [],
   "source": [
    "cols = [\"SalePrice\",\"OverallQual\",\"GrLivArea\",\"GarageCars\",\"TotalBsmtSF\",\"Age\"]\n",
    "plt.figure(figsize=[20,20])\n",
    "sns.pairplot(housing[cols])\n",
    "plt.show()"
   ]
  },
  {
   "cell_type": "markdown",
   "id": "38120b86",
   "metadata": {},
   "source": [
    "## Step 4: Data Preparation"
   ]
  },
  {
   "cell_type": "code",
   "execution_count": null,
   "id": "58939665",
   "metadata": {},
   "outputs": [],
   "source": [
    "housing_num = housing.select_dtypes(include =['int64','float64'])\n",
    "housing_cat = housing.select_dtypes(include = 'object')"
   ]
  },
  {
   "cell_type": "code",
   "execution_count": null,
   "id": "9f2a5bb1",
   "metadata": {},
   "outputs": [],
   "source": [
    "housing_cat"
   ]
  },
  {
   "cell_type": "code",
   "execution_count": null,
   "id": "6e942521",
   "metadata": {},
   "outputs": [],
   "source": [
    "housing_cat_dm = pd.get_dummies(housing_cat, drop_first=True, dtype=int)"
   ]
  },
  {
   "cell_type": "code",
   "execution_count": null,
   "id": "33ba2427",
   "metadata": {},
   "outputs": [],
   "source": [
    "housing_cat_dm"
   ]
  },
  {
   "cell_type": "code",
   "execution_count": null,
   "id": "200657fc",
   "metadata": {},
   "outputs": [],
   "source": [
    "house = pd.concat([housing_num,housing_cat_dm], axis=1)"
   ]
  },
  {
   "cell_type": "code",
   "execution_count": null,
   "id": "35d30ac7",
   "metadata": {},
   "outputs": [],
   "source": [
    "house.head()"
   ]
  },
  {
   "cell_type": "code",
   "execution_count": null,
   "id": "3b17d4c5",
   "metadata": {},
   "outputs": [],
   "source": [
    "house.shape"
   ]
  },
  {
   "cell_type": "code",
   "execution_count": null,
   "id": "4316c0e0",
   "metadata": {},
   "outputs": [],
   "source": [
    "#Split into Target and feature variables\n",
    "X = house.drop([\"SalePrice\"],axis=1).copy()\n",
    "y = house[\"SalePrice\"].copy()"
   ]
  },
  {
   "cell_type": "code",
   "execution_count": null,
   "id": "b6f820cf",
   "metadata": {},
   "outputs": [],
   "source": [
    "X.head()"
   ]
  },
  {
   "cell_type": "code",
   "execution_count": null,
   "id": "57641d8f",
   "metadata": {},
   "outputs": [],
   "source": [
    "y.head()"
   ]
  },
  {
   "cell_type": "code",
   "execution_count": null,
   "id": "a5e9d237",
   "metadata": {},
   "outputs": [],
   "source": [
    "from sklearn.model_selection import train_test_split\n",
    "from sklearn.preprocessing import StandardScaler"
   ]
  },
  {
   "cell_type": "code",
   "execution_count": null,
   "id": "722e0c24",
   "metadata": {},
   "outputs": [],
   "source": [
    "X_train, X_test, y_train, y_test = train_test_split(X,y, test_size=0.3, random_state=42) "
   ]
  },
  {
   "cell_type": "code",
   "execution_count": null,
   "id": "0fd12bfe",
   "metadata": {},
   "outputs": [],
   "source": [
    "X_train.shape"
   ]
  },
  {
   "cell_type": "code",
   "execution_count": null,
   "id": "0828a265",
   "metadata": {},
   "outputs": [],
   "source": [
    "y_train.shape"
   ]
  },
  {
   "cell_type": "markdown",
   "id": "5afad66c",
   "metadata": {},
   "source": [
    "##### scaling the dataset with Standard Scaler"
   ]
  },
  {
   "cell_type": "code",
   "execution_count": null,
   "id": "dfd9203e",
   "metadata": {},
   "outputs": [],
   "source": [
    "num_cols = list(X_train.select_dtypes(include=['int64','float64']).columns)"
   ]
  },
  {
   "cell_type": "code",
   "execution_count": null,
   "id": "61fb67ff",
   "metadata": {},
   "outputs": [],
   "source": [
    "scaler = StandardScaler()\n",
    "X_train[num_cols] = scaler.fit_transform(X_train[num_cols])\n",
    "X_test[num_cols] = scaler.fit_transform(X_test[num_cols])"
   ]
  },
  {
   "cell_type": "markdown",
   "id": "e7db58c2",
   "metadata": {},
   "source": [
    "##### Building a function to calculate evaluation metrics"
   ]
  },
  {
   "cell_type": "code",
   "execution_count": null,
   "id": "9c921157",
   "metadata": {},
   "outputs": [],
   "source": [
    "def eval_metrics(y_train, y_train_pred, y_test, y_pred):\n",
    "    \n",
    "    #r2 values for train and test data\n",
    "    print(\"r2 score (train) = \", '%.2f' % r2_score(y_train, y_train_pred))\n",
    "    print(\"r2 score (test) = \", \"%.2f\" % r2_score(y_test, y_pred))\n",
    "    \n",
    "    ## RMSE for train and test data\n",
    "    mse_train = mean_squared_error(y_train, y_train_pred)\n",
    "    mse_test = mean_squared_error(y_test, y_pred)\n",
    "    rmse_train = mse_train ** 0.5\n",
    "    rmse_test = mse_test ** 0.5\n",
    "    \n",
    "    print(\"RMSE(Train) = \", \"%.2f\" % rmse_train)\n",
    "    print(\"RMSE(Test) = \", \"%.2f\" % rmse_test)    "
   ]
  },
  {
   "cell_type": "markdown",
   "id": "c62cccfa",
   "metadata": {},
   "source": [
    "## Step 5: Build ML Model"
   ]
  },
  {
   "cell_type": "code",
   "execution_count": null,
   "id": "e1d9c46f",
   "metadata": {},
   "outputs": [],
   "source": [
    "# Import ML Libraries\n",
    "import sklearn\n",
    "from sklearn.feature_selection import RFE\n",
    "from sklearn.linear_model import LinearRegression\n",
    "from sklearn.metrics import r2_score, mean_squared_error\n",
    "from sklearn.linear_model import Ridge, Lasso\n",
    "from sklearn.model_selection import GridSearchCV"
   ]
  },
  {
   "cell_type": "code",
   "execution_count": null,
   "id": "06855918",
   "metadata": {},
   "outputs": [],
   "source": [
    "# Applying Ridge regression with varying the hyperparameter 'lambda'\n",
    "params = {'alpha':\n",
    "             [0.0001,0.001,0.01,0.05,0.1,0.2,0.3,0.4,0.5,0.6,0.7,0.8,0.9,1.0,2.0\n",
    "             ,3.0,4.0,5.0,6.0,7.0,8.0,9.0,10,20,50,100,500,1000]}\n",
    "ridge = Ridge()\n",
    "ridgeCV = GridSearchCV(estimator=ridge, param_grid = params, scoring=\"neg_mean_absolute_error\", cv = 5, return_train_score=True, verbose=1, n_jobs=-1)\n",
    "ridgeCV.fit(X_train, y_train)"
   ]
  },
  {
   "cell_type": "code",
   "execution_count": null,
   "id": "2e1de04c",
   "metadata": {},
   "outputs": [],
   "source": [
    "ridgeCV.best_params_"
   ]
  },
  {
   "cell_type": "code",
   "execution_count": null,
   "id": "927e68da",
   "metadata": {},
   "outputs": [],
   "source": [
    "ridgeCV.cv_results_"
   ]
  },
  {
   "cell_type": "code",
   "execution_count": null,
   "id": "bbdbee27",
   "metadata": {},
   "outputs": [],
   "source": [
    "ridge = Ridge(alpha=9)"
   ]
  },
  {
   "cell_type": "code",
   "execution_count": null,
   "id": "a9f2813b",
   "metadata": {},
   "outputs": [],
   "source": [
    "ridge.fit(X_train, y_train)"
   ]
  },
  {
   "cell_type": "code",
   "execution_count": null,
   "id": "38d83f35",
   "metadata": {},
   "outputs": [],
   "source": [
    "ridge.coef_"
   ]
  },
  {
   "cell_type": "code",
   "execution_count": null,
   "id": "e97c112e",
   "metadata": {},
   "outputs": [],
   "source": [
    "y_train_pred = ridge.predict(X_train)\n",
    "y_pred = ridge.predict(X_test)"
   ]
  },
  {
   "cell_type": "code",
   "execution_count": null,
   "id": "81271943",
   "metadata": {},
   "outputs": [],
   "source": [
    "eval_metrics(y_train, y_train_pred, y_test, y_pred)"
   ]
  },
  {
   "cell_type": "code",
   "execution_count": null,
   "id": "f008d6d8",
   "metadata": {},
   "outputs": [],
   "source": [
    "ridgeCV_res = pd.DataFrame(ridgeCV.cv_results_)\n",
    "ridgeCV_res.head()"
   ]
  },
  {
   "cell_type": "code",
   "execution_count": null,
   "id": "fcffd5f4",
   "metadata": {},
   "outputs": [],
   "source": [
    "plt.plot(ridgeCV_res['param_alpha'], ridgeCV_res['mean_train_score'], label = 'train')\n",
    "plt.plot(ridgeCV_res['param_alpha'], ridgeCV_res['mean_test_score'], label = 'test')\n",
    "plt.xlabel('alpha')\n",
    "plt.ylabel('R2_score')\n",
    "plt.xscale('log')\n",
    "plt.legend()\n",
    "plt.show()"
   ]
  },
  {
   "cell_type": "code",
   "execution_count": null,
   "id": "e7aedc21",
   "metadata": {},
   "outputs": [],
   "source": [
    "# Applying Lasso regression with varying the hyperparameter 'lambda'\n",
    "params = {'alpha':\n",
    "             [0.0001,0.001,0.01,0.05,0.1,0.2,0.3,0.4,0.5,0.6,0.7,0.8,0.9,1.0,2.0\n",
    "             ,3.0,4.0,5.0,6.0,7.0,8.0,9.0,10,20,50,100,500,1000]}\n",
    "lasso = Lasso()\n",
    "lassoCV = GridSearchCV(estimator=lasso, param_grid = params, scoring=\"neg_mean_absolute_error\", cv = 5, return_train_score=True, verbose=1, n_jobs=-1)\n",
    "lassoCV.fit(X_train, y_train)"
   ]
  },
  {
   "cell_type": "code",
   "execution_count": null,
   "id": "804b07d1",
   "metadata": {},
   "outputs": [],
   "source": [
    "lassoCV.best_params_"
   ]
  },
  {
   "cell_type": "code",
   "execution_count": null,
   "id": "dd96ed7c",
   "metadata": {},
   "outputs": [],
   "source": [
    "lasso = Lasso(alpha = 0.0001)"
   ]
  },
  {
   "cell_type": "code",
   "execution_count": null,
   "id": "f7398081",
   "metadata": {},
   "outputs": [],
   "source": [
    "lasso.fit(X_train, y_train)"
   ]
  },
  {
   "cell_type": "code",
   "execution_count": null,
   "id": "73805d80",
   "metadata": {},
   "outputs": [],
   "source": [
    "lasso.coef_"
   ]
  },
  {
   "cell_type": "code",
   "execution_count": null,
   "id": "6fdfadc0",
   "metadata": {},
   "outputs": [],
   "source": [
    "y_train_pred1 = lasso.predict(X_train)\n",
    "y_pred1 = lasso.predict(X_test)"
   ]
  },
  {
   "cell_type": "code",
   "execution_count": null,
   "id": "2b601829",
   "metadata": {},
   "outputs": [],
   "source": [
    "eval_metrics(y_train, y_train_pred1, y_test, y_pred1)"
   ]
  },
  {
   "cell_type": "code",
   "execution_count": null,
   "id": "49f90174",
   "metadata": {},
   "outputs": [],
   "source": [
    "lassoCV_res = pd.DataFrame(lassoCV.cv_results_)\n",
    "lassoCV_res.head()"
   ]
  },
  {
   "cell_type": "code",
   "execution_count": null,
   "id": "926263d1",
   "metadata": {},
   "outputs": [],
   "source": [
    "plt.plot(lassoCV_res['param_alpha'], lassoCV_res['mean_train_score'], label = 'train')\n",
    "plt.plot(lassoCV_res['param_alpha'], lassoCV_res['mean_test_score'], label = 'test')\n",
    "plt.xlabel('alpha')\n",
    "plt.ylabel('R2_score')\n",
    "plt.xscale('log')\n",
    "plt.legend()\n",
    "plt.show()"
   ]
  },
  {
   "cell_type": "markdown",
   "id": "e512e155",
   "metadata": {},
   "source": [
    "### Feature Extraction/Elimination"
   ]
  },
  {
   "cell_type": "code",
   "execution_count": null,
   "id": "e7b6a401",
   "metadata": {},
   "outputs": [],
   "source": [
    "betas = pd.DataFrame(index=X.columns) # Convert the columns to a Dataframe as betas\n",
    "betas.rows = X.columns\n",
    "# Creating columns for Ridge and lasso coefficients against each feature\n",
    "betas['Ridge'] = ridge.coef_\n",
    "betas['Lasso'] = lasso.coef_\n",
    "betas"
   ]
  },
  {
   "cell_type": "code",
   "execution_count": null,
   "id": "58024087",
   "metadata": {},
   "outputs": [],
   "source": [
    "# View the features removed by Lasso\n",
    "lasso_cols_removed = list(betas[betas['Lasso']==0].index)\n",
    "print(lasso_cols_removed)"
   ]
  },
  {
   "cell_type": "code",
   "execution_count": null,
   "id": "1cc1d6e9",
   "metadata": {},
   "outputs": [],
   "source": [
    "# View the features selected by Lasso\n",
    "lasso_cols_selected = list(betas[betas['Lasso']!=0].index)\n",
    "print(lasso_cols_selected)"
   ]
  },
  {
   "cell_type": "code",
   "execution_count": null,
   "id": "88b2b5d6",
   "metadata": {},
   "outputs": [],
   "source": [
    "print(len(lasso_cols_removed)) # 179 features are removed by Lasso\n",
    "print(len(lasso_cols_selected)) # 107 features are selected by Lasso"
   ]
  },
  {
   "cell_type": "markdown",
   "id": "91c41964",
   "metadata": {},
   "source": [
    "##### Top 10 features significant in predicting the value of a house, both according to Ridge model and Lasso model"
   ]
  },
  {
   "cell_type": "code",
   "execution_count": null,
   "id": "56f8c4ad",
   "metadata": {},
   "outputs": [],
   "source": [
    "# View the top 10 coefficients of Ridge Regression in descending order\n",
    "betas['Ridge'].sort_values(ascending=False)[:10]"
   ]
  },
  {
   "cell_type": "code",
   "execution_count": null,
   "id": "d000d20b",
   "metadata": {},
   "outputs": [],
   "source": [
    "# View the top 10 coefficients of Lasso in descending order\n",
    "betas['Lasso'].sort_values(ascending=False)[:10]"
   ]
  },
  {
   "cell_type": "code",
   "execution_count": null,
   "id": "2cb5b560",
   "metadata": {},
   "outputs": [],
   "source": [
    "# We have to take inverse log of betas to interpret the ridge coefficients in terms of target variable\n",
    "lasso_coeffs = np.exp(betas['Lasso'])\n",
    "lasso_coeffs.sort_values(ascending=False)[:10]"
   ]
  },
  {
   "cell_type": "code",
   "execution_count": null,
   "id": "81f27a5b",
   "metadata": {},
   "outputs": [],
   "source": []
  }
 ],
 "metadata": {
  "kernelspec": {
   "display_name": "Python 3 (ipykernel)",
   "language": "python",
   "name": "python3"
  },
  "language_info": {
   "codemirror_mode": {
    "name": "ipython",
    "version": 3
   },
   "file_extension": ".py",
   "mimetype": "text/x-python",
   "name": "python",
   "nbconvert_exporter": "python",
   "pygments_lexer": "ipython3",
   "version": "3.9.13"
  }
 },
 "nbformat": 4,
 "nbformat_minor": 5
}
